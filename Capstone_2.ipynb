{
  "nbformat": 4,
  "nbformat_minor": 0,
  "metadata": {
    "colab": {
      "provenance": []
    },
    "kernelspec": {
      "name": "python3",
      "display_name": "Python 3"
    },
    "language_info": {
      "name": "python"
    }
  },
  "cells": [
    {
      "cell_type": "markdown",
      "source": [
        "https://raw.githubusercontent.com/Premalatha-success/Datasets/refs/heads/main/AutoInsurance.csv"
      ],
      "metadata": {
        "id": "uD3P60K9Swj8"
      }
    },
    {
      "cell_type": "code",
      "source": [
        "### Problem Statement: Customer Lifetime Value Prediction"
      ],
      "metadata": {
        "id": "k47JBJgpXsAi"
      },
      "execution_count": null,
      "outputs": []
    },
    {
      "cell_type": "code",
      "source": [
        "from sklearn.linear_model import LinearRegression\n",
        "from sklearn.neighbors import KNeighborsRegressor\n",
        "from sklearn.svm import SVR\n",
        "from sklearn.tree import DecisionTreeRegressor\n",
        "from sklearn.ensemble import (\n",
        "    AdaBoostRegressor,\n",
        "    GradientBoostingRegressor,\n",
        "    BaggingRegressor,\n",
        "    RandomForestRegressor\n",
        ")"
      ],
      "metadata": {
        "id": "llv382R6gd9D"
      },
      "execution_count": null,
      "outputs": []
    },
    {
      "cell_type": "code",
      "source": [
        "### Do all the models and get the score"
      ],
      "metadata": {
        "id": "8QePeBUZ17zL"
      },
      "execution_count": null,
      "outputs": []
    },
    {
      "cell_type": "code",
      "source": [
        "### df1-> after removal of customer and effective to date columns\n",
        "### Remove the outliers without data loss\n",
        "### df1.shape\n",
        "### Boxplots\n",
        "### Implement all the models"
      ],
      "metadata": {
        "id": "XcTWa1dLpYcA"
      },
      "execution_count": null,
      "outputs": []
    },
    {
      "cell_type": "code",
      "source": [
        "### Note: Model should not be a overfitting one.Expected accuracy is atleast 85%.\n"
      ],
      "metadata": {
        "id": "Yp-rjq0lywwW"
      },
      "execution_count": null,
      "outputs": []
    },
    {
      "cell_type": "code",
      "source": [
        "### Deploy this in gradio"
      ],
      "metadata": {
        "id": "6ihAim9m2NRd"
      },
      "execution_count": null,
      "outputs": []
    }
  ]
}